{
 "cells": [
  {
   "cell_type": "code",
   "execution_count": 3,
   "metadata": {},
   "outputs": [
    {
     "data": {
      "image/png": "[encoded data removed]",
      "text/plain": [
       "<Figure size 432x288 with 1 Axes>"
      ]
     },
     "metadata": {
      "needs_background": "light"
     },
     "output_type": "display_data"
    }
   ],
   "source": [
    "import tensorflow as tf\n",
    "import numpy as np\n",
    "import matplotlib.pyplot as plt\n",
    "%matplotlib qt\n",
    "%matplotlib inline\n",
    "\n",
    "learning_rate = 0.01\n",
    "training_epochs = 100\n",
    "\n",
    "x_train = np.linspace(-1, 1, 101)\n",
    "y_train = 2 * x_train + np.random.randn(*x_train.shape) * 0.33\n",
    "\n",
    "X = tf.placeholder(tf.float32)                                             \n",
    "Y = tf.placeholder(tf.float32) \n",
    "\n",
    "def model(X, w):                                                           \n",
    "    return tf.multiply(X, w)\n",
    "\n",
    "w = tf.Variable(0.0, name=\"weights\") \n",
    "\n",
    "y_model = model(X, w)                                                      \n",
    "cost = tf.square(Y-y_model)\n",
    "\n",
    "train_op = tf.train.GradientDescentOptimizer(learning_rate).minimize(cost)\n",
    "\n",
    "sess = tf.Session()                                                        \n",
    "init = tf.global_variables_initializer()                                   \n",
    "sess.run(init)\n",
    "\n",
    "for epoch in range(training_epochs):                                       \n",
    "  for (x, y) in zip(x_train, y_train):                                     \n",
    "    sess.run(train_op, feed_dict={X: x, Y: y})\n",
    "    \n",
    "w_val = sess.run(w)\n",
    "\n",
    "sess.close()                                                               \n",
    "plt.scatter(x_train, y_train)                                              \n",
    "y_learned = x_train*w_val                                                  \n",
    "plt.plot(x_train, y_learned, 'r')                                          \n",
    "plt.show(    )  "
   ]
  },
  {
   "cell_type": "code",
   "execution_count": null,
   "metadata": {},
   "outputs": [],
   "source": []
  },
  {
   "cell_type": "code",
   "execution_count": null,
   "metadata": {},
   "outputs": [],
   "source": []
  }
 ],
 "metadata": {
  "kernelspec": {
   "display_name": "Python 3",
   "language": "python",
   "name": "python3"
  },
  "language_info": {
   "codemirror_mode": {
    "name": "ipython",
    "version": 3
   },
   "file_extension": ".py",
   "mimetype": "text/x-python",
   "name": "python",
   "nbconvert_exporter": "python",
   "pygments_lexer": "ipython3",
   "version": "3.6.6"
  }
 },
 "nbformat": 4,
 "nbformat_minor": 2
}
